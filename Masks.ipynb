{
 "cells": [
  {
   "cell_type": "code",
   "execution_count": 9,
   "metadata": {},
   "outputs": [],
   "source": [
    "import numpy as np\n",
    "import healpy as hp\n",
    "from matplotlib import pyplot as plt\n",
    "import pysm3\n",
    "import pysm3.units as u\n",
    "import pymaster as nmt\n",
    "%matplotlib inline\n",
    "#import packages"
   ]
  },
  {
   "cell_type": "markdown",
   "metadata": {},
   "source": [
    "Using PySM3 to simulate foreground and cmb maps. The noise is simulated as a random process and linked to the noise sensitivity of Planck"
   ]
  },
  {
   "cell_type": "code",
   "execution_count": 10,
   "metadata": {},
   "outputs": [],
   "source": [
    "#simulating foregroud emission and noise at the different Planck frequencies\n",
    "\n",
    "nside = 128\n",
    "\n",
    "npix = hp.nside2npix(nside)\n",
    "\n",
    "# Planck frequencies (in GHz)\n",
    "freqs = np.array([28.4,  44.1,  70.4,  100.0,  143.0,  217.0,  353.0,  545.0,  857.0])\n",
    "n_freqs = len(freqs)\n",
    "\n",
    "# Planck noise sensitivity (in uK_arcmin)\n",
    "sens = np.array([150.,  162.,  210.,  77.4,  33.,  46.8, 154,  42.,  5016.])\n",
    "\n",
    "#Importing models for foregrounds and cmb using pysm sky module\n",
    "\n",
    "sky_d = pysm3.Sky(nside=nside, preset_strings=[\"d1\"])\n",
    "sky_s = pysm3.Sky(nside=nside, preset_strings=[\"s1\"])\n",
    "sky_f = pysm3.Sky(nside=nside, preset_strings=[\"f1\"])\n",
    "sky_cmb = pysm3.Sky(nside=nside, preset_strings=[\"c1\"])\n",
    "\n",
    "# Initialization of lists to collect maps of different components at different frequencies\n",
    "noise_pl = []\n",
    "dust_pl = []\n",
    "sync_pl = []\n",
    "ff_pl = []\n",
    "cmb_pl =[]\n",
    "for nf in range(n_freqs):\n",
    "    #noise\n",
    "    noise= (np.random.normal(size=(12 * nside**2)) * sens[nf] / hp.nside2resol(nside, True))\n",
    "    noise_pl.append(noise)\n",
    "    #foregrounds\n",
    "    dust= sky_d.get_emission(freqs[nf] * u.GHz)[0] * u.uK_RJ.to(u.uK_CMB, equivalencies=u.cmb_equivalencies(freqs[nf] * u.GHz))\n",
    "    dust_pl.append(dust)\n",
    "    sync=sky_s.get_emission(freqs[nf] * u.GHz)[0] * u.uK_RJ.to(u.uK_CMB, equivalencies=u.cmb_equivalencies(freqs[nf] * u.GHz))\n",
    "\n",
    "    sync_pl.append(sync)\n",
    "    ff=sky_f.get_emission(freqs[nf] * u.GHz)[0] * u.uK_RJ.to(u.uK_CMB, equivalencies=u.cmb_equivalencies(freqs[nf] * u.GHz))\n",
    "    ff_pl.append(ff)\n",
    "    #cmb\n",
    "    cmb = sky_cmb.get_emission(freqs[nf] * u.GHz)[0]* u.uK_RJ.to(u.uK_CMB, equivalencies=u.cmb_equivalencies(freqs[nf] * u.GHz))\n",
    "    cmb_pl.append(cmb)\n",
    "\n",
    "\n",
    "# Making lists numpy arrays. Their dimension is (N_freq,N_pixels).\n",
    "noise_pl=np.array(noise_pl)\n",
    "dust_pl=np.array(dust_pl)\n",
    "sync_pl=np.array(sync_pl)\n",
    "ff_pl=np.array(ff_pl)\n",
    "cmb_pl = np.array(cmb_pl)\n"
   ]
  },
  {
   "cell_type": "markdown",
   "metadata": {},
   "source": [
    "Combining the CMB and foreground maps to be input into ILC"
   ]
  },
  {
   "cell_type": "code",
   "execution_count": 11,
   "metadata": {},
   "outputs": [
    {
     "name": "stdout",
     "output_type": "stream",
     "text": [
      "(9, 196608)\n"
     ]
    }
   ],
   "source": [
    "maps_pl = cmb_pl + noise_pl + dust_pl + sync_pl + ff_pl #cmb and foregrounds combined\n",
    "\n",
    "print(maps_pl.shape)"
   ]
  },
  {
   "cell_type": "markdown",
   "metadata": {},
   "source": [
    "Transforimng frequency maps to harmonic space by decomposition"
   ]
  },
  {
   "cell_type": "code",
   "execution_count": 12,
   "metadata": {},
   "outputs": [
    {
     "name": "stdout",
     "output_type": "stream",
     "text": [
      "73920\n",
      "147456\n",
      "383\n"
     ]
    }
   ],
   "source": [
    "#transform maps to spherical harmonics\n",
    "lmax=3*nside -1 #default is lmax= 3*nside+1\n",
    "almsize=hp.Alm.getsize(lmax)\n",
    "print(almsize)\n",
    "print((lmax+1)**2)\n",
    "print(lmax)\n",
    "alm_maps=np.zeros((n_freqs, almsize), dtype=complex) #storing coefficients in an array of dim n_freqs*almsize. dtype is complex to account for -ive values\n",
    "\n",
    "for nf in range(n_freqs):\n",
    "    alm_maps[nf,:]= hp.map2alm(maps_pl[nf,:], lmax=lmax, mmax=None, iter=0, pol=False) #record alm corresponding to each f for a corresponding l and m\n",
    "    "
   ]
  },
  {
   "cell_type": "markdown",
   "metadata": {},
   "source": [
    "Compute nf x nf Covariance matrix by fixing l for particular $a_{lm}$. Compute weights for every l\n",
    "$$\n",
    "\\hat{C}_{l}^{ij} = \\frac{1}{2l+1}\\sum_{m=-l}^{+l} a_{lm}^{i}a^{j \\dagger }_{lm}\n",
    "$$"
   ]
  },
  {
   "cell_type": "code",
   "execution_count": 13,
   "metadata": {},
   "outputs": [
    {
     "name": "stdout",
     "output_type": "stream",
     "text": [
      "(9, 384)\n",
      "(384, 9, 9)\n"
     ]
    }
   ],
   "source": [
    "C_l= np.zeros((lmax+1,n_freqs, n_freqs), dtype=float)#lmax+1 x freq x freq\n",
    "for l in range(lmax+1):\n",
    "    index= np.zeros((l+1), dtype=int) \n",
    "    for m in range(l+1):\n",
    "        index[m]=hp.Alm.getidx(lmax, l,m) #getting indices corresponding to each l and m for m>0\n",
    "    \n",
    "   \n",
    "    alm_p=alm_maps[:, index] #subarray of alm maps. : takes all values from first dim (frequencies). 2nd dim the values of m>0\n",
    "\n",
    "\n",
    "    #alm = np.conj(alm_p) + alm_p #alm with positive and negative values\n",
    "\n",
    "    C_l [l,:, :]= np.real(np.outer(alm_p[:, 0], alm_p[:,0])) #2d array from outer product alm_0\n",
    "    \n",
    "    for m in range(1,l+1): #sum over m\n",
    "        C_l [l,:, :] += 2* np.real(np.outer(alm_p[:, m], np.conj(alm_p[:, m]))) #adding alm_p and negative ti C_l . outer product/multiplying over freq\n",
    "C_l /= (2*l +1)   \n",
    "\n",
    "print(alm_p.shape)\n",
    "print(C_l.shape)"
   ]
  },
  {
   "cell_type": "markdown",
   "metadata": {},
   "source": [
    "Add a galaxy cut to get rid of emissions from the galactic plane. Create Mask"
   ]
  },
  {
   "cell_type": "code",
   "execution_count": 14,
   "metadata": {},
   "outputs": [
    {
     "name": "stdout",
     "output_type": "stream",
     "text": [
      "(196608,)\n"
     ]
    }
   ],
   "source": [
    "gal_cut = np.radians(10)\n",
    "mask = np.zeros(npix, dtype=np.float32)\n",
    "mask[hp.query_strip(nside, np.pi/2-gal_cut, np.pi/2+gal_cut)] = 1\n",
    "mask[hp.query_disc(nside, hp.ang2vec(np.pi/2, 0), np.radians(20))] = 1\n",
    "print(mask.shape)\n"
   ]
  },
  {
   "cell_type": "code",
   "execution_count": 15,
   "metadata": {},
   "outputs": [
    {
     "data": {
      "image/png": "[encoded data removed]",
      "text/plain": [
       "<Figure size 850x540 with 2 Axes>"
      ]
     },
     "metadata": {},
     "output_type": "display_data"
    }
   ],
   "source": [
    "hp.mollview(mask, title=\"Binary mask\")"
   ]
  },
  {
   "cell_type": "markdown",
   "metadata": {},
   "source": [
    "Masking the combined maps"
   ]
  },
  {
   "cell_type": "code",
   "execution_count": 16,
   "metadata": {},
   "outputs": [],
   "source": [
    "masked =np.zeros((n_freqs, npix))\n",
    "masked =maps_pl[3,:] - maps_pl[3,:]*mask\n",
    "\n",
    "#for nf in range(n_freqs):\n",
    " #   masked =maps_pl[nf,:] - maps_pl[nf,:]*mask\n",
    "    #hp.mollview(masked, title='Masked map', min=-400, max=400)"
   ]
  },
  {
   "cell_type": "markdown",
   "metadata": {},
   "source": [
    "Initializing field with mask"
   ]
  },
  {
   "cell_type": "code",
   "execution_count": 17,
   "metadata": {},
   "outputs": [],
   "source": [
    "f_0 =nmt.NmtField(mask, [maps_pl[3,:]])\n"
   ]
  },
  {
   "cell_type": "markdown",
   "metadata": {},
   "source": [
    "Defining the binning scheme.  how to group multipoles $\\ell$ into bins. Here, the resolution is nside=128, and the bin width is 4 (i.e., each bin will group values of $\\ell$ from 4 multipoles)."
   ]
  },
  {
   "cell_type": "code",
   "execution_count": 18,
   "metadata": {},
   "outputs": [],
   "source": [
    "b = nmt.NmtBin.from_nside_linear(nside, 4)"
   ]
  },
  {
   "cell_type": "markdown",
   "metadata": {},
   "source": [
    "Computing the full master pseudo C_l"
   ]
  },
  {
   "cell_type": "code",
   "execution_count": 19,
   "metadata": {},
   "outputs": [],
   "source": [
    "cl_00 = nmt.compute_full_master(f_0, f_0, b)"
   ]
  },
  {
   "cell_type": "markdown",
   "metadata": {},
   "source": [
    "- obtain the **effective multipoles** $\\ell$ associated with the bins in the binning scheme b from the NaMaster library.\n",
    "- define which multipole $\\ell$ values represent the center of each bin. The **effective multipoles** are typically the mean or central value of the multipoles within each bin. This helps to simplify the interpretation of the power spectra.\n",
    "- array of **effective multipoles** $\\ell$ for each bin.\n",
    "- instead of plotting each individual $\\ell$, you plot the effective $\\ell$ of each bin, which is often more useful for interpreting power spectrum results."
   ]
  },
  {
   "cell_type": "code",
   "execution_count": 20,
   "metadata": {},
   "outputs": [
    {
     "name": "stdout",
     "output_type": "stream",
     "text": [
      "(95,)\n"
     ]
    }
   ],
   "source": [
    "ell_arr = b.get_effective_ells() \n",
    "print(ell_arr.shape) #lmax/4"
   ]
  },
  {
   "cell_type": "code",
   "execution_count": 40,
   "metadata": {},
   "outputs": [
    {
     "data": {
      "image/png": "[encoded data removed]",
      "text/plain": [
       "<Figure size 640x480 with 1 Axes>"
      ]
     },
     "metadata": {},
     "output_type": "display_data"
    }
   ],
   "source": [
    "plt.plot(ell_arr, cl_00[0])\n",
    "plt.loglog()\n",
    "plt.xlabel('$\\\\ell$', fontsize=16)\n",
    "plt.ylabel('$C_\\\\ell$', fontsize=16)\n",
    "#plt.xlim(1, 700)\n",
    "plt.show()\n"
   ]
  },
  {
   "cell_type": "code",
   "execution_count": 38,
   "metadata": {},
   "outputs": [
    {
     "data": {
      "text/plain": [
       "[<matplotlib.lines.Line2D at 0xffd1080dfc70>]"
      ]
     },
     "execution_count": 38,
     "metadata": {},
     "output_type": "execute_result"
    },
    {
     "data": {
      "image/png": "[encoded data removed]",
      "text/plain": [
       "<Figure size 640x480 with 1 Axes>"
      ]
     },
     "metadata": {},
     "output_type": "display_data"
    }
   ],
   "source": [
    "ell = np.zeros(l+1)\n",
    "plt.plot(ell, C_l[:,3,3])\n",
    "#plt.loglog()"
   ]
  }
 ],
 "metadata": {
  "kernelspec": {
   "display_name": "Python 3",
   "language": "python",
   "name": "python3"
  },
  "language_info": {
   "codemirror_mode": {
    "name": "ipython",
    "version": 3
   },
   "file_extension": ".py",
   "mimetype": "text/x-python",
   "name": "python",
   "nbconvert_exporter": "python",
   "pygments_lexer": "ipython3",
   "version": "3.10.12"
  }
 },
 "nbformat": 4,
 "nbformat_minor": 2
}
